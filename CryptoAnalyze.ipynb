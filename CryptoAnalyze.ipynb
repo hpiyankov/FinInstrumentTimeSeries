{
 "cells": [
  {
   "cell_type": "code",
   "execution_count": 7,
   "metadata": {},
   "outputs": [],
   "source": [
    "import pandas as pd\n",
    "import requests"
   ]
  },
  {
   "cell_type": "code",
   "execution_count": 8,
   "metadata": {},
   "outputs": [],
   "source": [
    "api_key = 'aba71b881abe20e44821eba0a22afcd3'"
   ]
  },
  {
   "cell_type": "code",
   "execution_count": 9,
   "metadata": {},
   "outputs": [],
   "source": [
    "def fetch_data():\n",
    "    response = requests.get('https://api.nomics.com/v1/candles?key='+api_key+'&currency=BTC')\n",
    "    return response.json()"
   ]
  },
  {
   "cell_type": "code",
   "execution_count": 10,
   "metadata": {},
   "outputs": [],
   "source": [
    "test = fetch_data()\n",
    "df = pd.DataFrame(test)"
   ]
  },
  {
   "cell_type": "code",
   "execution_count": 11,
   "metadata": {},
   "outputs": [
    {
     "data": {
      "text/html": [
       "<div>\n",
       "<style scoped>\n",
       "    .dataframe tbody tr th:only-of-type {\n",
       "        vertical-align: middle;\n",
       "    }\n",
       "\n",
       "    .dataframe tbody tr th {\n",
       "        vertical-align: top;\n",
       "    }\n",
       "\n",
       "    .dataframe thead th {\n",
       "        text-align: right;\n",
       "    }\n",
       "</style>\n",
       "<table border=\"1\" class=\"dataframe\">\n",
       "  <thead>\n",
       "    <tr style=\"text-align: right;\">\n",
       "      <th></th>\n",
       "      <th>close</th>\n",
       "      <th>high</th>\n",
       "      <th>low</th>\n",
       "      <th>open</th>\n",
       "      <th>timestamp</th>\n",
       "      <th>volume</th>\n",
       "    </tr>\n",
       "  </thead>\n",
       "  <tbody>\n",
       "    <tr>\n",
       "      <th>0</th>\n",
       "      <td>14.58601</td>\n",
       "      <td>14.58601</td>\n",
       "      <td>14.53295</td>\n",
       "      <td>14.53737</td>\n",
       "      <td>2013-01-14T00:00:00Z</td>\n",
       "      <td>1805</td>\n",
       "    </tr>\n",
       "    <tr>\n",
       "      <th>1</th>\n",
       "      <td>14.47379</td>\n",
       "      <td>14.76857</td>\n",
       "      <td>14.47379</td>\n",
       "      <td>14.52479</td>\n",
       "      <td>2013-01-15T00:00:00Z</td>\n",
       "      <td>1939</td>\n",
       "    </tr>\n",
       "    <tr>\n",
       "      <th>2</th>\n",
       "      <td>15.02459</td>\n",
       "      <td>15.02460</td>\n",
       "      <td>14.74920</td>\n",
       "      <td>14.75878</td>\n",
       "      <td>2013-01-16T00:00:00Z</td>\n",
       "      <td>10127</td>\n",
       "    </tr>\n",
       "    <tr>\n",
       "      <th>3</th>\n",
       "      <td>15.96468</td>\n",
       "      <td>15.96468</td>\n",
       "      <td>15.09600</td>\n",
       "      <td>15.09600</td>\n",
       "      <td>2013-01-17T00:00:00Z</td>\n",
       "      <td>27334</td>\n",
       "    </tr>\n",
       "    <tr>\n",
       "      <th>4</th>\n",
       "      <td>15.99800</td>\n",
       "      <td>16.26278</td>\n",
       "      <td>15.74880</td>\n",
       "      <td>16.03437</td>\n",
       "      <td>2013-01-18T00:00:00Z</td>\n",
       "      <td>17294</td>\n",
       "    </tr>\n",
       "  </tbody>\n",
       "</table>\n",
       "</div>"
      ],
      "text/plain": [
       "      close      high       low      open             timestamp volume\n",
       "0  14.58601  14.58601  14.53295  14.53737  2013-01-14T00:00:00Z   1805\n",
       "1  14.47379  14.76857  14.47379  14.52479  2013-01-15T00:00:00Z   1939\n",
       "2  15.02459  15.02460  14.74920  14.75878  2013-01-16T00:00:00Z  10127\n",
       "3  15.96468  15.96468  15.09600  15.09600  2013-01-17T00:00:00Z  27334\n",
       "4  15.99800  16.26278  15.74880  16.03437  2013-01-18T00:00:00Z  17294"
      ]
     },
     "execution_count": 11,
     "metadata": {},
     "output_type": "execute_result"
    }
   ],
   "source": [
    "df.head(5)"
   ]
  },
  {
   "cell_type": "code",
   "execution_count": 12,
   "metadata": {},
   "outputs": [],
   "source": [
    "time = pd.to_datetime(df['timestamp'])"
   ]
  },
  {
   "cell_type": "code",
   "execution_count": 13,
   "metadata": {},
   "outputs": [],
   "source": [
    "del df['timestamp']"
   ]
  },
  {
   "cell_type": "code",
   "execution_count": 14,
   "metadata": {},
   "outputs": [
    {
     "name": "stdout",
     "output_type": "stream",
     "text": [
      "<class 'pandas.core.frame.DataFrame'>\n",
      "RangeIndex: 2240 entries, 0 to 2239\n",
      "Data columns (total 6 columns):\n",
      "close     2240 non-null float64\n",
      "high      2240 non-null float64\n",
      "low       2240 non-null float64\n",
      "open      2240 non-null float64\n",
      "volume    2240 non-null float64\n",
      "time      2240 non-null datetime64[ns]\n",
      "dtypes: datetime64[ns](1), float64(5)\n",
      "memory usage: 105.1 KB\n"
     ]
    }
   ],
   "source": [
    "df = df.astype(float)\n",
    "df['time'] = time\n",
    "df.info()"
   ]
  },
  {
   "cell_type": "code",
   "execution_count": 38,
   "metadata": {},
   "outputs": [],
   "source": [
    "import numpy as np\n",
    "import matplotlib\n",
    "import matplotlib.pyplot as plt\n",
    "# from matplotlib.finance import candlestick\n",
    "# from matplotlib.finance import volume_overlay3\n",
    "# finance module is no longer part of matplotlib\n",
    "# see: https://github.com/matplotlib/mpl_finance\n",
    "from mpl_finance import candlestick_ochl as candlestick\n",
    "from mpl_finance import volume_overlay3\n",
    "from matplotlib.dates import num2date\n",
    "from matplotlib.dates import date2num\n",
    "import matplotlib.mlab as mlab\n",
    "import datetime"
   ]
  },
  {
   "cell_type": "code",
   "execution_count": 189,
   "metadata": {},
   "outputs": [],
   "source": [
    "def plotOHLC(dframe):\n",
    "    candlesticks[\"time\"] = dframe[['time']].copy().apply(mdates.date2num)\n",
    "    candlesticks['open'] = dframe['open']\n",
    "    candlesticks['hight'] = dframe['hight']\n",
    "    candlesticks['low'] = dframe['low']\n",
    "    candlesticks['close'] = dframe['close']\n",
    "    \n",
    "    candlesticks = candlesticks.astype(float)\n",
    "    \n",
    "    \n",
    "    fig = plt.figure(figsize=(20,10))\n",
    "    ax = fig.add_subplot(1,1,1)\n",
    "\n",
    "    ax.set_ylabel('Quote ($)', size=20)\n",
    "    candlestick(ax, ohlc.values,width=1,colorup='g', colordown='r')\n",
    "    \n",
    "    max = candlesticks['high'].max()\n",
    "    ax.set_ylim(-max/2,max*1.1)\n",
    "    ax.set_xlim(candlesticks['time'].min(), candlesticks['time'].max())\n",
    "    \n",
    "    xt = ax.get_xticks()\n",
    "    new_xticks = [datetime.date.isoformat(num2date(d)) for d in xt]\n",
    "    ax.set_xticklabels(new_xticks,rotation=45, horizontalalignment='right')\n",
    "    size = ax.get_position()\n",
    "    \n",
    "    # create the second axis for the volume bar-plot\n",
    "    ax2 = ax.twinx()\n",
    "    \n",
    "    # get data from candlesticks for a bar plot\n",
    "    dates = candlesticks [\"time\"]\n",
    "    volume = dframe['volume']\n",
    "\n",
    "    # make bar plots and color differently depending on up/down for the day\n",
    "    pos = candlesticks['open']-candlesticks['close']<0\n",
    "    neg = candlesticks['open']-candlesticks['close']>0\n",
    "    ax2.bar(dates[pos],volume[pos],color='green',width=1,align='center')\n",
    "    ax2.bar(dates[neg],volume[neg],color='red',width=1,align='center')\n",
    "\n",
    "    #scale the x-axis tight\n",
    "    ax2.set_xlim(candlesticks['time'].min(), candlesticks['time'].max())\n",
    "    ax2.set_ylim(volume.min(),volume.max()*3)\n",
    "    ax2.yaxis.set_label_position(\"right\")\n",
    "    ax2.set_ylabel('Volume', size=20)\n",
    "    \n",
    "    plt.show(block=True)"
   ]
  },
  {
   "cell_type": "code",
   "execution_count": 190,
   "metadata": {},
   "outputs": [
    {
     "ename": "UnboundLocalError",
     "evalue": "local variable 'candlesticks' referenced before assignment",
     "output_type": "error",
     "traceback": [
      "\u001b[0;31m---------------------------------------------------------------------------\u001b[0m",
      "\u001b[0;31mUnboundLocalError\u001b[0m                         Traceback (most recent call last)",
      "\u001b[0;32m<ipython-input-190-309f5ffa80ad>\u001b[0m in \u001b[0;36m<module>\u001b[0;34m\u001b[0m\n\u001b[0;32m----> 1\u001b[0;31m \u001b[0mplotOHLC\u001b[0m\u001b[0;34m(\u001b[0m\u001b[0mdf\u001b[0m\u001b[0;34m)\u001b[0m\u001b[0;34m\u001b[0m\u001b[0;34m\u001b[0m\u001b[0m\n\u001b[0m",
      "\u001b[0;32m<ipython-input-189-ed2c436b011b>\u001b[0m in \u001b[0;36mplotOHLC\u001b[0;34m(dframe)\u001b[0m\n\u001b[1;32m      1\u001b[0m \u001b[0;32mdef\u001b[0m \u001b[0mplotOHLC\u001b[0m\u001b[0;34m(\u001b[0m\u001b[0mdframe\u001b[0m\u001b[0;34m)\u001b[0m\u001b[0;34m:\u001b[0m\u001b[0;34m\u001b[0m\u001b[0;34m\u001b[0m\u001b[0m\n\u001b[0;32m----> 2\u001b[0;31m     \u001b[0mcandlesticks\u001b[0m\u001b[0;34m[\u001b[0m\u001b[0;34m\"time\"\u001b[0m\u001b[0;34m]\u001b[0m \u001b[0;34m=\u001b[0m \u001b[0mdframe\u001b[0m\u001b[0;34m[\u001b[0m\u001b[0;34m[\u001b[0m\u001b[0;34m'time'\u001b[0m\u001b[0;34m]\u001b[0m\u001b[0;34m]\u001b[0m\u001b[0;34m.\u001b[0m\u001b[0mcopy\u001b[0m\u001b[0;34m(\u001b[0m\u001b[0;34m)\u001b[0m\u001b[0;34m.\u001b[0m\u001b[0mapply\u001b[0m\u001b[0;34m(\u001b[0m\u001b[0mmdates\u001b[0m\u001b[0;34m.\u001b[0m\u001b[0mdate2num\u001b[0m\u001b[0;34m)\u001b[0m\u001b[0;34m\u001b[0m\u001b[0;34m\u001b[0m\u001b[0m\n\u001b[0m\u001b[1;32m      3\u001b[0m     \u001b[0mcandlesticks\u001b[0m\u001b[0;34m[\u001b[0m\u001b[0;34m'open'\u001b[0m\u001b[0;34m]\u001b[0m \u001b[0;34m=\u001b[0m \u001b[0mdframe\u001b[0m\u001b[0;34m[\u001b[0m\u001b[0;34m'open'\u001b[0m\u001b[0;34m]\u001b[0m\u001b[0;34m\u001b[0m\u001b[0;34m\u001b[0m\u001b[0m\n\u001b[1;32m      4\u001b[0m     \u001b[0mcandlesticks\u001b[0m\u001b[0;34m[\u001b[0m\u001b[0;34m'hight'\u001b[0m\u001b[0;34m]\u001b[0m \u001b[0;34m=\u001b[0m \u001b[0mdframe\u001b[0m\u001b[0;34m[\u001b[0m\u001b[0;34m'hight'\u001b[0m\u001b[0;34m]\u001b[0m\u001b[0;34m\u001b[0m\u001b[0;34m\u001b[0m\u001b[0m\n\u001b[1;32m      5\u001b[0m     \u001b[0mcandlesticks\u001b[0m\u001b[0;34m[\u001b[0m\u001b[0;34m'low'\u001b[0m\u001b[0;34m]\u001b[0m \u001b[0;34m=\u001b[0m \u001b[0mdframe\u001b[0m\u001b[0;34m[\u001b[0m\u001b[0;34m'low'\u001b[0m\u001b[0;34m]\u001b[0m\u001b[0;34m\u001b[0m\u001b[0;34m\u001b[0m\u001b[0m\n",
      "\u001b[0;31mUnboundLocalError\u001b[0m: local variable 'candlesticks' referenced before assignment"
     ]
    }
   ],
   "source": [
    "plotOHLC(df)"
   ]
  },
  {
   "cell_type": "code",
   "execution_count": 184,
   "metadata": {},
   "outputs": [
    {
     "data": {
      "image/png": "[encoded data removed]",
      "text/plain": [
       "<Figure size 1440x720 with 2 Axes>"
      ]
     },
     "metadata": {
      "needs_background": "light"
     },
     "output_type": "display_data"
    }
   ],
   "source": [
    "plotOHLC(df[:100])"
   ]
  },
  {
   "cell_type": "code",
   "execution_count": null,
   "metadata": {},
   "outputs": [],
   "source": []
  }
 ],
 "metadata": {
  "kernelspec": {
   "display_name": "Python 3",
   "language": "python",
   "name": "python3"
  },
  "language_info": {
   "codemirror_mode": {
    "name": "ipython",
    "version": 3
   },
   "file_extension": ".py",
   "mimetype": "text/x-python",
   "name": "python",
   "nbconvert_exporter": "python",
   "pygments_lexer": "ipython3",
   "version": "3.7.1"
  }
 },
 "nbformat": 4,
 "nbformat_minor": 2
}
