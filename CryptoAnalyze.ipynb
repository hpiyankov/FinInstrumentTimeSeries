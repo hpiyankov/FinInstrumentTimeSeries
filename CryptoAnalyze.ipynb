{
  "nbformat": 4,
  "nbformat_minor": 0,
  "metadata": {
    "colab": {
      "name": "CryptoAnalyze.ipynb",
      "version": "0.3.2",
      "provenance": [],
      "include_colab_link": true
    },
    "kernelspec": {
      "display_name": "Python 3",
      "language": "python",
      "name": "python3"
    }
  },
  "cells": [
    {
      "cell_type": "markdown",
      "metadata": {
        "id": "view-in-github",
        "colab_type": "text"
      },
      "source": [
        "<a href=\"https://colab.research.google.com/github/hpiyankov/FinInstrumentTimeSeries/blob/master/CryptoAnalyze.ipynb\" target=\"_parent\"><img src=\"https://colab.research.google.com/assets/colab-badge.svg\" alt=\"Open In Colab\"/></a>"
      ]
    },
    {
      "metadata": {
        "id": "lqf-aQ_X1DAg",
        "colab_type": "code",
        "colab": {}
      },
      "cell_type": "code",
      "source": [
        "import pandas as pd\n",
        "import requests"
      ],
      "execution_count": 0,
      "outputs": []
    },
    {
      "metadata": {
        "id": "0k9w98TN5vWi",
        "colab_type": "code",
        "colab": {
          "base_uri": "https://localhost:8080/",
          "height": 34
        },
        "outputId": "9fd4bf71-892c-4356-d609-84ea2baa0502"
      },
      "cell_type": "code",
      "source": [
        "from google.colab import drive\n",
        "drive.mount('/content/gdrive')"
      ],
      "execution_count": 2,
      "outputs": [
        {
          "output_type": "stream",
          "text": [
            "Drive already mounted at /content/gdrive; to attempt to forcibly remount, call drive.mount(\"/content/gdrive\", force_remount=True).\n"
          ],
          "name": "stdout"
        }
      ]
    },
    {
      "metadata": {
        "id": "5txe-47t5_Et",
        "colab_type": "code",
        "colab": {}
      },
      "cell_type": "code",
      "source": [
        "with open('/content/gdrive/My Drive/9. HighAvailability/ColabKeys/nomics_api.txt', 'r') as f:\n",
        "  api_key = f.read()"
      ],
      "execution_count": 0,
      "outputs": []
    },
    {
      "metadata": {
        "id": "ANAUzQBY1DAm",
        "colab_type": "code",
        "colab": {}
      },
      "cell_type": "code",
      "source": [
        "def fetch_data():\n",
        "    response = requests.get('https://api.nomics.com/v1/candles?key='+api_key+'&currency=BTC')\n",
        "    return response.json()"
      ],
      "execution_count": 0,
      "outputs": []
    },
    {
      "metadata": {
        "id": "Xnka_AVm1DAp",
        "colab_type": "code",
        "colab": {}
      },
      "cell_type": "code",
      "source": [
        "test = fetch_data()\n",
        "df = pd.DataFrame(test)"
      ],
      "execution_count": 0,
      "outputs": []
    },
    {
      "metadata": {
        "id": "4nPH_5tz1DAt",
        "colab_type": "code",
        "outputId": "b391db64-6de4-4831-f975-018b3fe81fc9",
        "colab": {
          "base_uri": "https://localhost:8080/",
          "height": 195
        }
      },
      "cell_type": "code",
      "source": [
        "df.head(5)"
      ],
      "execution_count": 7,
      "outputs": [
        {
          "output_type": "execute_result",
          "data": {
            "text/html": [
              "<div>\n",
              "<style scoped>\n",
              "    .dataframe tbody tr th:only-of-type {\n",
              "        vertical-align: middle;\n",
              "    }\n",
              "\n",
              "    .dataframe tbody tr th {\n",
              "        vertical-align: top;\n",
              "    }\n",
              "\n",
              "    .dataframe thead th {\n",
              "        text-align: right;\n",
              "    }\n",
              "</style>\n",
              "<table border=\"1\" class=\"dataframe\">\n",
              "  <thead>\n",
              "    <tr style=\"text-align: right;\">\n",
              "      <th></th>\n",
              "      <th>close</th>\n",
              "      <th>high</th>\n",
              "      <th>low</th>\n",
              "      <th>open</th>\n",
              "      <th>timestamp</th>\n",
              "      <th>volume</th>\n",
              "    </tr>\n",
              "  </thead>\n",
              "  <tbody>\n",
              "    <tr>\n",
              "      <th>0</th>\n",
              "      <td>14.58601</td>\n",
              "      <td>14.58601</td>\n",
              "      <td>14.53295</td>\n",
              "      <td>14.53737</td>\n",
              "      <td>2013-01-14T00:00:00Z</td>\n",
              "      <td>1805</td>\n",
              "    </tr>\n",
              "    <tr>\n",
              "      <th>1</th>\n",
              "      <td>14.47379</td>\n",
              "      <td>14.76857</td>\n",
              "      <td>14.47379</td>\n",
              "      <td>14.52479</td>\n",
              "      <td>2013-01-15T00:00:00Z</td>\n",
              "      <td>1939</td>\n",
              "    </tr>\n",
              "    <tr>\n",
              "      <th>2</th>\n",
              "      <td>15.02459</td>\n",
              "      <td>15.02460</td>\n",
              "      <td>14.74920</td>\n",
              "      <td>14.75878</td>\n",
              "      <td>2013-01-16T00:00:00Z</td>\n",
              "      <td>10127</td>\n",
              "    </tr>\n",
              "    <tr>\n",
              "      <th>3</th>\n",
              "      <td>15.96468</td>\n",
              "      <td>15.96468</td>\n",
              "      <td>15.09600</td>\n",
              "      <td>15.09600</td>\n",
              "      <td>2013-01-17T00:00:00Z</td>\n",
              "      <td>27334</td>\n",
              "    </tr>\n",
              "    <tr>\n",
              "      <th>4</th>\n",
              "      <td>15.99800</td>\n",
              "      <td>16.26278</td>\n",
              "      <td>15.74880</td>\n",
              "      <td>16.03437</td>\n",
              "      <td>2013-01-18T00:00:00Z</td>\n",
              "      <td>17294</td>\n",
              "    </tr>\n",
              "  </tbody>\n",
              "</table>\n",
              "</div>"
            ],
            "text/plain": [
              "      close      high       low      open             timestamp volume\n",
              "0  14.58601  14.58601  14.53295  14.53737  2013-01-14T00:00:00Z   1805\n",
              "1  14.47379  14.76857  14.47379  14.52479  2013-01-15T00:00:00Z   1939\n",
              "2  15.02459  15.02460  14.74920  14.75878  2013-01-16T00:00:00Z  10127\n",
              "3  15.96468  15.96468  15.09600  15.09600  2013-01-17T00:00:00Z  27334\n",
              "4  15.99800  16.26278  15.74880  16.03437  2013-01-18T00:00:00Z  17294"
            ]
          },
          "metadata": {
            "tags": []
          },
          "execution_count": 7
        }
      ]
    },
    {
      "metadata": {
        "id": "i8SPjUxT1DA0",
        "colab_type": "code",
        "colab": {}
      },
      "cell_type": "code",
      "source": [
        "time = pd.to_datetime(df['timestamp'])"
      ],
      "execution_count": 0,
      "outputs": []
    },
    {
      "metadata": {
        "id": "Fkt9yzAo1DA5",
        "colab_type": "code",
        "colab": {}
      },
      "cell_type": "code",
      "source": [
        "del df['timestamp']"
      ],
      "execution_count": 0,
      "outputs": []
    },
    {
      "metadata": {
        "id": "e5zPTY622Hq3",
        "colab_type": "code",
        "outputId": "68c02ba2-ace6-4ede-8329-f737f056764d",
        "colab": {
          "base_uri": "https://localhost:8080/",
          "height": 168
        }
      },
      "cell_type": "code",
      "source": [
        "!pip install mpl_finance"
      ],
      "execution_count": 0,
      "outputs": [
        {
          "output_type": "stream",
          "text": [
            "Requirement already satisfied: mpl_finance in /usr/local/lib/python3.6/dist-packages (0.10.0)\n",
            "Requirement already satisfied: matplotlib in /usr/local/lib/python3.6/dist-packages (from mpl_finance) (3.0.3)\n",
            "Requirement already satisfied: pyparsing!=2.0.4,!=2.1.2,!=2.1.6,>=2.0.1 in /usr/local/lib/python3.6/dist-packages (from matplotlib->mpl_finance) (2.3.1)\n",
            "Requirement already satisfied: cycler>=0.10 in /usr/local/lib/python3.6/dist-packages (from matplotlib->mpl_finance) (0.10.0)\n",
            "Requirement already satisfied: numpy>=1.10.0 in /usr/local/lib/python3.6/dist-packages (from matplotlib->mpl_finance) (1.14.6)\n",
            "Requirement already satisfied: kiwisolver>=1.0.1 in /usr/local/lib/python3.6/dist-packages (from matplotlib->mpl_finance) (1.0.1)\n",
            "Requirement already satisfied: python-dateutil>=2.1 in /usr/local/lib/python3.6/dist-packages (from matplotlib->mpl_finance) (2.5.3)\n",
            "Requirement already satisfied: six in /usr/local/lib/python3.6/dist-packages (from cycler>=0.10->matplotlib->mpl_finance) (1.11.0)\n",
            "Requirement already satisfied: setuptools in /usr/local/lib/python3.6/dist-packages (from kiwisolver>=1.0.1->matplotlib->mpl_finance) (40.8.0)\n"
          ],
          "name": "stdout"
        }
      ]
    },
    {
      "metadata": {
        "id": "il0UI4Nl1DBA",
        "colab_type": "code",
        "colab": {}
      },
      "cell_type": "code",
      "source": [
        "import numpy as np\n",
        "import matplotlib\n",
        "import matplotlib.pyplot as plt\n",
        "# from matplotlib.finance import candlestick\n",
        "# from matplotlib.finance import volume_overlay3\n",
        "# finance module is no longer part of matplotlib\n",
        "# see: https://github.com/matplotlib/mpl_finance\n",
        "from mpl_finance import candlestick_ochl as candlestick\n",
        "from mpl_finance import volume_overlay3\n",
        "from matplotlib.dates import num2date\n",
        "from matplotlib.dates import date2num\n",
        "import matplotlib.mlab as mlab\n",
        "import datetime"
      ],
      "execution_count": 0,
      "outputs": []
    },
    {
      "metadata": {
        "id": "xH_GK_rR1DA9",
        "colab_type": "code",
        "outputId": "03c18c6c-1349-426e-8dda-9c5b96bb1948",
        "colab": {
          "base_uri": "https://localhost:8080/",
          "height": 202
        }
      },
      "cell_type": "code",
      "source": [
        "df = df.astype(float)\n",
        "df['time'] = time\n",
        "df.info()"
      ],
      "execution_count": 0,
      "outputs": [
        {
          "output_type": "stream",
          "text": [
            "<class 'pandas.core.frame.DataFrame'>\n",
            "RangeIndex: 2249 entries, 0 to 2248\n",
            "Data columns (total 6 columns):\n",
            "close     2249 non-null float64\n",
            "high      2249 non-null float64\n",
            "low       2249 non-null float64\n",
            "open      2249 non-null float64\n",
            "volume    2249 non-null float64\n",
            "time      2249 non-null datetime64[ns]\n",
            "dtypes: datetime64[ns](1), float64(5)\n",
            "memory usage: 105.5 KB\n"
          ],
          "name": "stdout"
        }
      ]
    },
    {
      "metadata": {
        "id": "LWC92NnY1DBD",
        "colab_type": "code",
        "colab": {}
      },
      "cell_type": "code",
      "source": [
        "def plotOHLC(dframe):\n",
        "    candlesticks[\"time\"] = dframe[['time']].copy().apply(mdates.date2num)\n",
        "    candlesticks['open'] = dframe['open']\n",
        "    candlesticks['hight'] = dframe['hight']\n",
        "    candlesticks['low'] = dframe['low']\n",
        "    candlesticks['close'] = dframe['close']\n",
        "    \n",
        "    candlesticks = candlesticks.astype(float)\n",
        "    \n",
        "    \n",
        "    fig = plt.figure(figsize=(20,10))\n",
        "    ax = fig.add_subplot(1,1,1)\n",
        "\n",
        "    ax.set_ylabel('Quote ($)', size=20)\n",
        "    candlestick(ax, ohlc.values,width=1,colorup='g', colordown='r')\n",
        "    \n",
        "    max = candlesticks['high'].max()\n",
        "    ax.set_ylim(-max/2,max*1.1)\n",
        "    ax.set_xlim(candlesticks['time'].min(), candlesticks['time'].max())\n",
        "    \n",
        "    xt = ax.get_xticks()\n",
        "    new_xticks = [datetime.date.isoformat(num2date(d)) for d in xt]\n",
        "    ax.set_xticklabels(new_xticks,rotation=45, horizontalalignment='right')\n",
        "    size = ax.get_position()\n",
        "    \n",
        "    # create the second axis for the volume bar-plot\n",
        "    ax2 = ax.twinx()\n",
        "    \n",
        "    # get data from candlesticks for a bar plot\n",
        "    dates = candlesticks [\"time\"]\n",
        "    volume = dframe['volume']\n",
        "\n",
        "    # make bar plots and color differently depending on up/down for the day\n",
        "    pos = candlesticks['open']-candlesticks['close']<0\n",
        "    neg = candlesticks['open']-candlesticks['close']>0\n",
        "    ax2.bar(dates[pos],volume[pos],color='green',width=1,align='center')\n",
        "    ax2.bar(dates[neg],volume[neg],color='red',width=1,align='center')\n",
        "\n",
        "    #scale the x-axis tight\n",
        "    ax2.set_xlim(candlesticks['time'].min(), candlesticks['time'].max())\n",
        "    ax2.set_ylim(volume.min(),volume.max()*3)\n",
        "    ax2.yaxis.set_label_position(\"right\")\n",
        "    ax2.set_ylabel('Volume', size=20)\n",
        "    \n",
        "    plt.show(block=True)"
      ],
      "execution_count": 0,
      "outputs": []
    },
    {
      "metadata": {
        "id": "iVcHkIcq1DBF",
        "colab_type": "code",
        "outputId": "6b6ef677-b2e4-417b-d7cd-6832621ac86e",
        "colab": {
          "base_uri": "https://localhost:8080/",
          "height": 279
        }
      },
      "cell_type": "code",
      "source": [
        "plotOHLC(df)"
      ],
      "execution_count": 0,
      "outputs": [
        {
          "output_type": "error",
          "ename": "NameError",
          "evalue": "ignored",
          "traceback": [
            "\u001b[0;31m---------------------------------------------------------------------------\u001b[0m",
            "\u001b[0;31mNameError\u001b[0m                                 Traceback (most recent call last)",
            "\u001b[0;32m<ipython-input-28-309f5ffa80ad>\u001b[0m in \u001b[0;36m<module>\u001b[0;34m()\u001b[0m\n\u001b[0;32m----> 1\u001b[0;31m \u001b[0mplotOHLC\u001b[0m\u001b[0;34m(\u001b[0m\u001b[0mdf\u001b[0m\u001b[0;34m)\u001b[0m\u001b[0;34m\u001b[0m\u001b[0;34m\u001b[0m\u001b[0m\n\u001b[0m",
            "\u001b[0;32m<ipython-input-27-ed2c436b011b>\u001b[0m in \u001b[0;36mplotOHLC\u001b[0;34m(dframe)\u001b[0m\n\u001b[1;32m      1\u001b[0m \u001b[0;32mdef\u001b[0m \u001b[0mplotOHLC\u001b[0m\u001b[0;34m(\u001b[0m\u001b[0mdframe\u001b[0m\u001b[0;34m)\u001b[0m\u001b[0;34m:\u001b[0m\u001b[0;34m\u001b[0m\u001b[0;34m\u001b[0m\u001b[0m\n\u001b[0;32m----> 2\u001b[0;31m     \u001b[0mcandlesticks\u001b[0m\u001b[0;34m[\u001b[0m\u001b[0;34m\"time\"\u001b[0m\u001b[0;34m]\u001b[0m \u001b[0;34m=\u001b[0m \u001b[0mdframe\u001b[0m\u001b[0;34m[\u001b[0m\u001b[0;34m[\u001b[0m\u001b[0;34m'time'\u001b[0m\u001b[0;34m]\u001b[0m\u001b[0;34m]\u001b[0m\u001b[0;34m.\u001b[0m\u001b[0mcopy\u001b[0m\u001b[0;34m(\u001b[0m\u001b[0;34m)\u001b[0m\u001b[0;34m.\u001b[0m\u001b[0mapply\u001b[0m\u001b[0;34m(\u001b[0m\u001b[0mmdates\u001b[0m\u001b[0;34m.\u001b[0m\u001b[0mdate2num\u001b[0m\u001b[0;34m)\u001b[0m\u001b[0;34m\u001b[0m\u001b[0;34m\u001b[0m\u001b[0m\n\u001b[0m\u001b[1;32m      3\u001b[0m     \u001b[0mcandlesticks\u001b[0m\u001b[0;34m[\u001b[0m\u001b[0;34m'open'\u001b[0m\u001b[0;34m]\u001b[0m \u001b[0;34m=\u001b[0m \u001b[0mdframe\u001b[0m\u001b[0;34m[\u001b[0m\u001b[0;34m'open'\u001b[0m\u001b[0;34m]\u001b[0m\u001b[0;34m\u001b[0m\u001b[0;34m\u001b[0m\u001b[0m\n\u001b[1;32m      4\u001b[0m     \u001b[0mcandlesticks\u001b[0m\u001b[0;34m[\u001b[0m\u001b[0;34m'hight'\u001b[0m\u001b[0;34m]\u001b[0m \u001b[0;34m=\u001b[0m \u001b[0mdframe\u001b[0m\u001b[0;34m[\u001b[0m\u001b[0;34m'hight'\u001b[0m\u001b[0;34m]\u001b[0m\u001b[0;34m\u001b[0m\u001b[0;34m\u001b[0m\u001b[0m\n\u001b[1;32m      5\u001b[0m     \u001b[0mcandlesticks\u001b[0m\u001b[0;34m[\u001b[0m\u001b[0;34m'low'\u001b[0m\u001b[0;34m]\u001b[0m \u001b[0;34m=\u001b[0m \u001b[0mdframe\u001b[0m\u001b[0;34m[\u001b[0m\u001b[0;34m'low'\u001b[0m\u001b[0;34m]\u001b[0m\u001b[0;34m\u001b[0m\u001b[0;34m\u001b[0m\u001b[0m\n",
            "\u001b[0;31mNameError\u001b[0m: name 'mdates' is not defined"
          ]
        }
      ]
    },
    {
      "metadata": {
        "id": "ScDTBObr1DBI",
        "colab_type": "code",
        "colab": {}
      },
      "cell_type": "code",
      "source": [
        "plotOHLC(df[:100])"
      ],
      "execution_count": 0,
      "outputs": []
    },
    {
      "metadata": {
        "id": "b7M3pJLg1DBM",
        "colab_type": "code",
        "colab": {}
      },
      "cell_type": "code",
      "source": [
        ""
      ],
      "execution_count": 0,
      "outputs": []
    }
  ]
}