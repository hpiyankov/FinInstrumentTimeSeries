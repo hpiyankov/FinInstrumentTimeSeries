{
  "nbformat": 4,
  "nbformat_minor": 0,
  "metadata": {
    "colab": {
      "name": "CryptoAnalyze.ipynb",
      "version": "0.3.2",
      "provenance": [],
      "collapsed_sections": [],
      "include_colab_link": true
    },
    "kernelspec": {
      "name": "python3",
      "display_name": "Python 3"
    },
    "accelerator": "GPU"
  },
  "cells": [
    {
      "cell_type": "markdown",
      "metadata": {
        "id": "view-in-github",
        "colab_type": "text"
      },
      "source": [
        "<a href=\"https://colab.research.google.com/github/hpiyankov/FinInstrumentTimeSeries/blob/master/CryptoAnalyze.ipynb\" target=\"_parent\"><img src=\"https://colab.research.google.com/assets/colab-badge.svg\" alt=\"Open In Colab\"/></a>"
      ]
    },
    {
      "metadata": {
        "id": "ean_xejejAUf",
        "colab_type": "text"
      },
      "cell_type": "markdown",
      "source": [
        "Double check if we have GPU enabled\n",
        "\n"
      ]
    },
    {
      "metadata": {
        "id": "YAF1zaV0jBKx",
        "colab_type": "code",
        "colab": {
          "base_uri": "https://localhost:8080/",
          "height": 34
        },
        "outputId": "49d2574e-5838-4683-a751-69be4dfcda2f"
      },
      "cell_type": "code",
      "source": [
        "!nvidia-smi -L"
      ],
      "execution_count": 1,
      "outputs": [
        {
          "output_type": "stream",
          "text": [
            "GPU 0: Tesla K80 (UUID: GPU-02a542ab-1806-77fd-ce2d-ad4b102a9725)\n"
          ],
          "name": "stdout"
        }
      ]
    },
    {
      "metadata": {
        "id": "ooTI7GqiAyMK",
        "colab_type": "code",
        "outputId": "47377f3e-f12e-499b-ff98-dea466636b88",
        "colab": {
          "base_uri": "https://localhost:8080/",
          "height": 302
        }
      },
      "cell_type": "code",
      "source": [
        "!nvidia-smi"
      ],
      "execution_count": 2,
      "outputs": [
        {
          "output_type": "stream",
          "text": [
            "Tue Mar 12 15:37:21 2019       \n",
            "+-----------------------------------------------------------------------------+\n",
            "| NVIDIA-SMI 418.43       Driver Version: 410.79       CUDA Version: 10.0     |\n",
            "|-------------------------------+----------------------+----------------------+\n",
            "| GPU  Name        Persistence-M| Bus-Id        Disp.A | Volatile Uncorr. ECC |\n",
            "| Fan  Temp  Perf  Pwr:Usage/Cap|         Memory-Usage | GPU-Util  Compute M. |\n",
            "|===============================+======================+======================|\n",
            "|   0  Tesla K80           Off  | 00000000:00:04.0 Off |                    0 |\n",
            "| N/A   58C    P8    30W / 149W |      0MiB / 11441MiB |      0%      Default |\n",
            "+-------------------------------+----------------------+----------------------+\n",
            "                                                                               \n",
            "+-----------------------------------------------------------------------------+\n",
            "| Processes:                                                       GPU Memory |\n",
            "|  GPU       PID   Type   Process name                             Usage      |\n",
            "|=============================================================================|\n",
            "|  No running processes found                                                 |\n",
            "+-----------------------------------------------------------------------------+\n"
          ],
          "name": "stdout"
        }
      ]
    },
    {
      "metadata": {
        "id": "oCnHVq-pjR7n",
        "colab_type": "text"
      },
      "cell_type": "markdown",
      "source": [
        "Install additional needed libraries\n",
        "\n",
        "*   mat plot lib finance\n",
        "\n",
        "\n",
        "\n",
        "\n"
      ]
    },
    {
      "metadata": {
        "id": "oUzENy4Yjjf8",
        "colab_type": "code",
        "colab": {
          "base_uri": "https://localhost:8080/",
          "height": 286
        },
        "outputId": "0ddd76df-c0c0-4d85-ce37-8d7b848f04d6"
      },
      "cell_type": "code",
      "source": [
        "!pip install mpl_finance"
      ],
      "execution_count": 3,
      "outputs": [
        {
          "output_type": "stream",
          "text": [
            "Collecting mpl_finance\n",
            "  Downloading https://files.pythonhosted.org/packages/d3/83/92f0593ea39122075d115d2578034283bcc790f679cdbe61d0d3902c59f1/mpl_finance-0.10.0.tar.gz\n",
            "Requirement already satisfied: matplotlib in /usr/local/lib/python3.6/dist-packages (from mpl_finance) (3.0.3)\n",
            "Requirement already satisfied: python-dateutil>=2.1 in /usr/local/lib/python3.6/dist-packages (from matplotlib->mpl_finance) (2.5.3)\n",
            "Requirement already satisfied: pyparsing!=2.0.4,!=2.1.2,!=2.1.6,>=2.0.1 in /usr/local/lib/python3.6/dist-packages (from matplotlib->mpl_finance) (2.3.1)\n",
            "Requirement already satisfied: numpy>=1.10.0 in /usr/local/lib/python3.6/dist-packages (from matplotlib->mpl_finance) (1.14.6)\n",
            "Requirement already satisfied: kiwisolver>=1.0.1 in /usr/local/lib/python3.6/dist-packages (from matplotlib->mpl_finance) (1.0.1)\n",
            "Requirement already satisfied: cycler>=0.10 in /usr/local/lib/python3.6/dist-packages (from matplotlib->mpl_finance) (0.10.0)\n",
            "Requirement already satisfied: six>=1.5 in /usr/local/lib/python3.6/dist-packages (from python-dateutil>=2.1->matplotlib->mpl_finance) (1.11.0)\n",
            "Requirement already satisfied: setuptools in /usr/local/lib/python3.6/dist-packages (from kiwisolver>=1.0.1->matplotlib->mpl_finance) (40.8.0)\n",
            "Building wheels for collected packages: mpl-finance\n",
            "  Building wheel for mpl-finance (setup.py) ... \u001b[?25ldone\n",
            "\u001b[?25h  Stored in directory: /root/.cache/pip/wheels/67/db/24/04ddd06ec9a5e4500b44c13d8e95898f5b90b512303e385de8\n",
            "Successfully built mpl-finance\n",
            "Installing collected packages: mpl-finance\n",
            "Successfully installed mpl-finance-0.10.0\n"
          ],
          "name": "stdout"
        }
      ]
    },
    {
      "metadata": {
        "id": "yKMLNJ6WjuzD",
        "colab_type": "text"
      },
      "cell_type": "markdown",
      "source": [
        "Api keys for nomics. We are loading them form google drive."
      ]
    },
    {
      "metadata": {
        "id": "JnomytCLkYTo",
        "colab_type": "code",
        "colab": {
          "base_uri": "https://localhost:8080/",
          "height": 121
        },
        "outputId": "d8fcc5fe-6658-408c-a7ee-5be2092a4655"
      },
      "cell_type": "code",
      "source": [
        "from google.colab import drive\n",
        "drive.mount('/content/gdrive')\n",
        "with open('/content/gdrive/My Drive/9. HighAvailability/ColabKeys/nomics_api.txt', 'r') as f:\n",
        "  api_key = f.read()"
      ],
      "execution_count": 4,
      "outputs": [
        {
          "output_type": "stream",
          "text": [
            "Go to this URL in a browser: https://accounts.google.com/o/oauth2/auth?client_id=947318989803-6bn6qk8qdgf4n4g3pfee6491hc0brc4i.apps.googleusercontent.com&redirect_uri=urn%3Aietf%3Awg%3Aoauth%3A2.0%3Aoob&scope=email%20https%3A%2F%2Fwww.googleapis.com%2Fauth%2Fdocs.test%20https%3A%2F%2Fwww.googleapis.com%2Fauth%2Fdrive%20https%3A%2F%2Fwww.googleapis.com%2Fauth%2Fdrive.photos.readonly%20https%3A%2F%2Fwww.googleapis.com%2Fauth%2Fpeopleapi.readonly&response_type=code\n",
            "\n",
            "Enter your authorization code:\n",
            "··········\n",
            "Mounted at /content/gdrive\n"
          ],
          "name": "stdout"
        }
      ]
    },
    {
      "metadata": {
        "id": "0OaHBrxXAKtu",
        "colab_type": "code",
        "colab": {}
      },
      "cell_type": "code",
      "source": [
        "import pandas as pd\n",
        "import requests\n",
        "import numpy as np\n",
        "import matplotlib\n",
        "import matplotlib.pyplot as plt\n",
        "# from matplotlib.finance import candlestick\n",
        "# from matplotlib.finance import volume_overlay3\n",
        "# finance module is no longer part of matplotlib\n",
        "# see: https://github.com/matplotlib/mpl_finance\n",
        "from mpl_finance import candlestick_ochl as candlestick\n",
        "from mpl_finance import volume_overlay3\n",
        "from matplotlib.dates import num2date\n",
        "from matplotlib.dates import date2num\n",
        "import matplotlib.mlab as mlab\n",
        "import datetime"
      ],
      "execution_count": 0,
      "outputs": []
    },
    {
      "metadata": {
        "id": "ObAcqZwAk3lJ",
        "colab_type": "code",
        "colab": {}
      },
      "cell_type": "code",
      "source": [
        "def fetch_data():\n",
        "    response = requests.get('https://api.nomics.com/v1/candles?key='+api_key+'&currency=BTC')\n",
        "    return response.json()"
      ],
      "execution_count": 0,
      "outputs": []
    },
    {
      "metadata": {
        "id": "Xnka_AVm1DAp",
        "colab_type": "code",
        "colab": {}
      },
      "cell_type": "code",
      "source": [
        "test = fetch_data()\n",
        "df = pd.DataFrame(test)"
      ],
      "execution_count": 0,
      "outputs": []
    },
    {
      "metadata": {
        "id": "4nPH_5tz1DAt",
        "colab_type": "code",
        "outputId": "d280aab1-3d2a-4f1f-88e1-fbf37231e5ae",
        "colab": {
          "base_uri": "https://localhost:8080/",
          "height": 195
        }
      },
      "cell_type": "code",
      "source": [
        "df.head(5)"
      ],
      "execution_count": 15,
      "outputs": [
        {
          "output_type": "execute_result",
          "data": {
            "text/html": [
              "<div>\n",
              "<style scoped>\n",
              "    .dataframe tbody tr th:only-of-type {\n",
              "        vertical-align: middle;\n",
              "    }\n",
              "\n",
              "    .dataframe tbody tr th {\n",
              "        vertical-align: top;\n",
              "    }\n",
              "\n",
              "    .dataframe thead th {\n",
              "        text-align: right;\n",
              "    }\n",
              "</style>\n",
              "<table border=\"1\" class=\"dataframe\">\n",
              "  <thead>\n",
              "    <tr style=\"text-align: right;\">\n",
              "      <th></th>\n",
              "      <th>close</th>\n",
              "      <th>high</th>\n",
              "      <th>low</th>\n",
              "      <th>open</th>\n",
              "      <th>timestamp</th>\n",
              "      <th>volume</th>\n",
              "    </tr>\n",
              "  </thead>\n",
              "  <tbody>\n",
              "    <tr>\n",
              "      <th>0</th>\n",
              "      <td>14.58601</td>\n",
              "      <td>14.58601</td>\n",
              "      <td>14.53295</td>\n",
              "      <td>14.53737</td>\n",
              "      <td>2013-01-14T00:00:00Z</td>\n",
              "      <td>1805</td>\n",
              "    </tr>\n",
              "    <tr>\n",
              "      <th>1</th>\n",
              "      <td>14.47379</td>\n",
              "      <td>14.76857</td>\n",
              "      <td>14.47379</td>\n",
              "      <td>14.52479</td>\n",
              "      <td>2013-01-15T00:00:00Z</td>\n",
              "      <td>1939</td>\n",
              "    </tr>\n",
              "    <tr>\n",
              "      <th>2</th>\n",
              "      <td>15.02459</td>\n",
              "      <td>15.02460</td>\n",
              "      <td>14.74920</td>\n",
              "      <td>14.75878</td>\n",
              "      <td>2013-01-16T00:00:00Z</td>\n",
              "      <td>10127</td>\n",
              "    </tr>\n",
              "    <tr>\n",
              "      <th>3</th>\n",
              "      <td>15.96468</td>\n",
              "      <td>15.96468</td>\n",
              "      <td>15.09600</td>\n",
              "      <td>15.09600</td>\n",
              "      <td>2013-01-17T00:00:00Z</td>\n",
              "      <td>27334</td>\n",
              "    </tr>\n",
              "    <tr>\n",
              "      <th>4</th>\n",
              "      <td>15.99800</td>\n",
              "      <td>16.26278</td>\n",
              "      <td>15.74880</td>\n",
              "      <td>16.03437</td>\n",
              "      <td>2013-01-18T00:00:00Z</td>\n",
              "      <td>17294</td>\n",
              "    </tr>\n",
              "  </tbody>\n",
              "</table>\n",
              "</div>"
            ],
            "text/plain": [
              "      close      high       low      open             timestamp volume\n",
              "0  14.58601  14.58601  14.53295  14.53737  2013-01-14T00:00:00Z   1805\n",
              "1  14.47379  14.76857  14.47379  14.52479  2013-01-15T00:00:00Z   1939\n",
              "2  15.02459  15.02460  14.74920  14.75878  2013-01-16T00:00:00Z  10127\n",
              "3  15.96468  15.96468  15.09600  15.09600  2013-01-17T00:00:00Z  27334\n",
              "4  15.99800  16.26278  15.74880  16.03437  2013-01-18T00:00:00Z  17294"
            ]
          },
          "metadata": {
            "tags": []
          },
          "execution_count": 15
        }
      ]
    },
    {
      "metadata": {
        "id": "i8SPjUxT1DA0",
        "colab_type": "code",
        "colab": {}
      },
      "cell_type": "code",
      "source": [
        "time = pd.to_datetime(df['timestamp'])"
      ],
      "execution_count": 0,
      "outputs": []
    },
    {
      "metadata": {
        "id": "AGttU9gklXST",
        "colab_type": "code",
        "colab": {
          "base_uri": "https://localhost:8080/",
          "height": 202
        },
        "outputId": "fcc52531-ef7e-47e6-f1d4-b85c65b55d23"
      },
      "cell_type": "code",
      "source": [
        "df.info()"
      ],
      "execution_count": 16,
      "outputs": [
        {
          "output_type": "stream",
          "text": [
            "<class 'pandas.core.frame.DataFrame'>\n",
            "RangeIndex: 2249 entries, 0 to 2248\n",
            "Data columns (total 6 columns):\n",
            "close        2249 non-null object\n",
            "high         2249 non-null object\n",
            "low          2249 non-null object\n",
            "open         2249 non-null object\n",
            "timestamp    2249 non-null object\n",
            "volume       2249 non-null object\n",
            "dtypes: object(6)\n",
            "memory usage: 105.5+ KB\n"
          ],
          "name": "stdout"
        }
      ]
    },
    {
      "metadata": {
        "id": "Fkt9yzAo1DA5",
        "colab_type": "code",
        "colab": {}
      },
      "cell_type": "code",
      "source": [
        "del df['timestamp']"
      ],
      "execution_count": 0,
      "outputs": []
    },
    {
      "metadata": {
        "id": "xH_GK_rR1DA9",
        "colab_type": "code",
        "outputId": "cb500a23-0e24-4008-cdf8-df42f210d3e9",
        "colab": {
          "base_uri": "https://localhost:8080/",
          "height": 202
        }
      },
      "cell_type": "code",
      "source": [
        "df_conv = df.astype(float)\n",
        "df_conv['time'] = time\n",
        "df_conv.info()"
      ],
      "execution_count": 19,
      "outputs": [
        {
          "output_type": "stream",
          "text": [
            "<class 'pandas.core.frame.DataFrame'>\n",
            "RangeIndex: 2249 entries, 0 to 2248\n",
            "Data columns (total 6 columns):\n",
            "close     2249 non-null float64\n",
            "high      2249 non-null float64\n",
            "low       2249 non-null float64\n",
            "open      2249 non-null float64\n",
            "volume    2249 non-null float64\n",
            "time      2249 non-null datetime64[ns]\n",
            "dtypes: datetime64[ns](1), float64(5)\n",
            "memory usage: 105.5 KB\n"
          ],
          "name": "stdout"
        }
      ]
    },
    {
      "metadata": {
        "id": "LWC92NnY1DBD",
        "colab_type": "code",
        "colab": {}
      },
      "cell_type": "code",
      "source": [
        "def plotOHLC(dframe):\n",
        "    candlesticks = dframe[['open','high','low','close']].copy()\n",
        "    candlesticks[\"time\"] = dframe[['time']].copy().apply(date2num)\n",
        "    candlesticks = candlesticks.astype(float)\n",
        "    candlesticks.set_index('time')\n",
        "  \n",
        "    fig = plt.figure(figsize=(20,10))\n",
        "    ax = fig.add_subplot(1,1,1)\n",
        "\n",
        "    ax.set_ylabel('Quote ($)', size=20)\n",
        "    candlestick(ax, candlesticks.values,width=1,colorup='g', colordown='r')\n",
        "    \n",
        "    max = candlesticks['high'].max()\n",
        "    ax.set_ylim(-max/2,max*1.1)\n",
        "    ax.set_xlim(candlesticks['time'].min(), candlesticks['time'].max())\n",
        "    \n",
        "    xt = ax.get_xticks()\n",
        "    new_xticks = [datetime.date.isoformat(num2date(d)) for d in xt]\n",
        "    ax.set_xticklabels(new_xticks,rotation=45, horizontalalignment='right')\n",
        "    size = ax.get_position()\n",
        "    \n",
        "    # create the second axis for the volume bar-plot\n",
        "    ax2 = ax.twinx()\n",
        "    \n",
        "    # get data from candlesticks for a bar plot\n",
        "    dates = candlesticks [\"time\"]\n",
        "    volume = dframe['volume']\n",
        "\n",
        "    # make bar plots and color differently depending on up/down for the day\n",
        "    pos = candlesticks['open']-candlesticks['close']<0\n",
        "    neg = candlesticks['open']-candlesticks['close']>0\n",
        "    ax2.bar(dates[pos],volume[pos],color='green',width=1,align='center')\n",
        "    ax2.bar(dates[neg],volume[neg],color='red',width=1,align='center')\n",
        "\n",
        "    #scale the x-axis tight\n",
        "    ax2.set_xlim(candlesticks['time'].min(), candlesticks['time'].max())\n",
        "    ax2.set_ylim(volume.min(),volume.max()*3)\n",
        "    ax2.yaxis.set_label_position(\"right\")\n",
        "    ax2.set_ylabel('Volume', size=20)\n",
        "    \n",
        "    plt.show(block=True)"
      ],
      "execution_count": 0,
      "outputs": []
    },
    {
      "metadata": {
        "id": "iVcHkIcq1DBF",
        "colab_type": "code",
        "outputId": "0ac11fc7-aa33-47cf-cbe1-25e2ff4ede3e",
        "colab": {
          "base_uri": "https://localhost:8080/",
          "height": 636
        }
      },
      "cell_type": "code",
      "source": [
        "plotOHLC(df_conv)"
      ],
      "execution_count": 38,
      "outputs": [
        {
          "output_type": "display_data",
          "data": {
            "image/png": "[encoded data removed]",
            "text/plain": [
              "<Figure size 1440x720 with 2 Axes>"
            ]
          },
          "metadata": {
            "tags": []
          }
        }
      ]
    },
    {
      "metadata": {
        "id": "ScDTBObr1DBI",
        "colab_type": "code",
        "colab": {}
      },
      "cell_type": "code",
      "source": [
        "plotOHLC(df_conv[:100])"
      ],
      "execution_count": 0,
      "outputs": []
    },
    {
      "metadata": {
        "id": "b7M3pJLg1DBM",
        "colab_type": "code",
        "colab": {}
      },
      "cell_type": "code",
      "source": [
        ""
      ],
      "execution_count": 0,
      "outputs": []
    }
  ]
}